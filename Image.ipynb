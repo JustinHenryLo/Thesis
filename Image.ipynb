{
 "cells": [
  {
   "cell_type": "code",
   "execution_count": 1,
   "metadata": {},
   "outputs": [],
   "source": [
    "from PIL import Image\n",
    "import cv2 as cv\n",
    "import os"
   ]
  },
  {
   "cell_type": "code",
   "execution_count": 2,
   "metadata": {},
   "outputs": [],
   "source": [
    "source_path = \"/home/justin/Desktop/Jupyter/Test Data/Image/Washington/washingtondb-v1.0/data/line_images_normalized/\"\n",
    "height_list = []\n",
    "width_list = []\n",
    "limit = 200\n",
    "run = 0\n",
    "for filename in os.listdir(source_path):\n",
    "    if(limit == run):\n",
    "        break\n",
    "    img = Image.open(source_path + str(filename))\n",
    "    width, height = img.size\n",
    "    height_list.append(height)\n",
    "    width_list.append(width)\n",
    "    run += 1"
   ]
  },
  {
   "cell_type": "code",
   "execution_count": null,
   "metadata": {},
   "outputs": [],
   "source": []
  },
  {
   "cell_type": "code",
   "execution_count": 3,
   "metadata": {},
   "outputs": [
    {
     "name": "stdout",
     "output_type": "stream",
     "text": [
      "120\n",
      "1460\n"
     ]
    }
   ],
   "source": [
    "from statistics import mode\n",
    "print(mode(height_list))\n",
    "print(mode(width_list))"
   ]
  },
  {
   "cell_type": "code",
   "execution_count": 31,
   "metadata": {},
   "outputs": [
    {
     "name": "stderr",
     "output_type": "stream",
     "text": [
      "/home/justin/anaconda3/lib/python3.6/site-packages/skimage/measure/_structural_similarity.py:234: skimage_deprecation: Function ``structural_similarity`` is deprecated and will be removed in version 0.14. Use ``compare_ssim`` instead.\n",
      "  def structural_similarity(X, Y, win_size=None, gradient=False,\n"
     ]
    },
    {
     "data": {
      "image/png": "[encoded data removed]",
      "text/plain": [
       "<Figure size 432x288 with 2 Axes>"
      ]
     },
     "metadata": {},
     "output_type": "display_data"
    },
    {
     "name": "stderr",
     "output_type": "stream",
     "text": [
      "/home/justin/anaconda3/lib/python3.6/site-packages/skimage/measure/_structural_similarity.py:234: skimage_deprecation: Function ``structural_similarity`` is deprecated and will be removed in version 0.14. Use ``compare_ssim`` instead.\n",
      "  def structural_similarity(X, Y, win_size=None, gradient=False,\n"
     ]
    },
    {
     "data": {
      "image/png": "[encoded data removed]",
      "text/plain": [
       "<Figure size 432x288 with 2 Axes>"
      ]
     },
     "metadata": {},
     "output_type": "display_data"
    },
    {
     "name": "stderr",
     "output_type": "stream",
     "text": [
      "/home/justin/anaconda3/lib/python3.6/site-packages/skimage/measure/_structural_similarity.py:234: skimage_deprecation: Function ``structural_similarity`` is deprecated and will be removed in version 0.14. Use ``compare_ssim`` instead.\n",
      "  def structural_similarity(X, Y, win_size=None, gradient=False,\n"
     ]
    },
    {
     "data": {
      "image/png": "[encoded data removed]",
      "text/plain": [
       "<Figure size 432x288 with 2 Axes>"
      ]
     },
     "metadata": {},
     "output_type": "display_data"
    },
    {
     "name": "stderr",
     "output_type": "stream",
     "text": [
      "/home/justin/anaconda3/lib/python3.6/site-packages/skimage/measure/_structural_similarity.py:234: skimage_deprecation: Function ``structural_similarity`` is deprecated and will be removed in version 0.14. Use ``compare_ssim`` instead.\n",
      "  def structural_similarity(X, Y, win_size=None, gradient=False,\n"
     ]
    },
    {
     "data": {
      "image/png": "[encoded data removed]",
      "text/plain": [
       "<Figure size 432x288 with 2 Axes>"
      ]
     },
     "metadata": {},
     "output_type": "display_data"
    },
    {
     "name": "stderr",
     "output_type": "stream",
     "text": [
      "/home/justin/anaconda3/lib/python3.6/site-packages/skimage/measure/_structural_similarity.py:234: skimage_deprecation: Function ``structural_similarity`` is deprecated and will be removed in version 0.14. Use ``compare_ssim`` instead.\n",
      "  def structural_similarity(X, Y, win_size=None, gradient=False,\n"
     ]
    },
    {
     "data": {
      "image/png": "[encoded data removed]",
      "text/plain": [
       "<Figure size 432x288 with 2 Axes>"
      ]
     },
     "metadata": {},
     "output_type": "display_data"
    }
   ],
   "source": [
    "# import the necessary packages\n",
    "from skimage.measure import structural_similarity as ssim\n",
    "from  skimage.measure import compare_ssim\n",
    "import matplotlib.pyplot as plt\n",
    "import numpy as np\n",
    "import cv2\n",
    "\n",
    "def mse(imageA, imageB):\n",
    "    # the 'Mean Squared Error' between the two images is the\n",
    "    # sum of the squared difference between the two images;\n",
    "    # NOTE: the two images must have the same dimension\n",
    "    err = np.sum((imageA.astype(\"float\") - imageB.astype(\"float\")) ** 2)\n",
    "    err /= float(imageA.shape[0] * imageA.shape[1])\n",
    "    # return the MSE, the lower the error, the more \"similar\"\n",
    "    # the two images are\n",
    "    return err\n",
    " \n",
    "def compare_images(imageA, imageB, title):\n",
    "    # compute the mean squared error and structural similarity\n",
    "    # index for the images\n",
    "    m = mse(imageA, imageB)\n",
    "    s = ssim(imageA, imageB)\n",
    "\n",
    "    # setup the figure\n",
    "    fig = plt.figure(title)\n",
    "    plt.suptitle(\"MSE: %.2f, SSIM: %.2f\" % (m, s))\n",
    "\n",
    "    # show first image\n",
    "    ax = fig.add_subplot(1, 2, 1)\n",
    "    plt.imshow(imageA, cmap = plt.cm.gray)\n",
    "    plt.axis(\"off\")\n",
    "\n",
    "    # show the second image\n",
    "    ax = fig.add_subplot(1, 2, 2)\n",
    "    plt.imshow(imageB, cmap = plt.cm.gray)\n",
    "    plt.axis(\"off\")\n",
    "\n",
    "    # show the images\n",
    "    plt.show()\n",
    "    \n",
    "# load the images -- the original, the original + contrast,\n",
    "# and the original + photoshop\n",
    "compare_images(cv2.imread(\"/home/justin/Desktop/WashingtonFeatures/W_features_45/W_features/270/270-06.-26-W.png\",0),\n",
    "               cv2.imread(\"/home/justin/Desktop/WashingtonFeatures/W_features_45/W_features/270/270-06.-21-W.png\",0),\"test\")\n",
    "\n",
    "\n",
    "compare_images(cv2.imread(\"/home/justin/Desktop/WashingtonFeatures/W_features_45/W_features/270/270-06.-26-W.png\",0),\n",
    "               cv2.imread(\"/home/justin/Desktop/Black.png\",0),\"test\")\n",
    "\n",
    "compare_images(cv2.imread(\"/home/justin/Desktop/raw2.png\",0),\n",
    "               cv2.imread(\"/home/justin/Desktop/raw.png\",0),\"test\")\n",
    "\n",
    "compare_images(cv2.imread(\"/home/justin/Desktop/Horizontal.png\",0),\n",
    "               cv2.imread(\"/home/justin/Desktop/Half_White.png\",0),\"test\")\n",
    "\n",
    "compare_images(cv2.imread(\"/home/justin/Desktop/Full_Black.png\",0),\n",
    "               cv2.imread(\"/home/justin/Desktop/Horizontal.png\",0),\"test\")\n",
    "\n"
   ]
  },
  {
   "cell_type": "code",
   "execution_count": 36,
   "metadata": {},
   "outputs": [
    {
     "data": {
      "image/png": "[encoded data removed]",
      "text/plain": [
       "<Figure size 432x288 with 2 Axes>"
      ]
     },
     "metadata": {},
     "output_type": "display_data"
    },
    {
     "data": {
      "image/png": "[encoded data removed]",
      "text/plain": [
       "<Figure size 432x288 with 2 Axes>"
      ]
     },
     "metadata": {},
     "output_type": "display_data"
    },
    {
     "data": {
      "image/png": "[encoded data removed]",
      "text/plain": [
       "<Figure size 432x288 with 2 Axes>"
      ]
     },
     "metadata": {},
     "output_type": "display_data"
    },
    {
     "data": {
      "image/png": "[encoded data removed]",
      "text/plain": [
       "<Figure size 432x288 with 2 Axes>"
      ]
     },
     "metadata": {},
     "output_type": "display_data"
    },
    {
     "data": {
      "image/png": "[encoded data removed]",
      "text/plain": [
       "<Figure size 432x288 with 2 Axes>"
      ]
     },
     "metadata": {},
     "output_type": "display_data"
    }
   ],
   "source": [
    "def compare_images2(imageA, imageB, title):\n",
    "    # compute the mean squared error and structural similarity\n",
    "    # index for the images\n",
    "    m = mse(imageA, imageB)\n",
    "    s = compare_ssim(imageA, imageB)\n",
    "\n",
    "    # setup the figure\n",
    "    fig = plt.figure(title)\n",
    "    plt.suptitle(\"MSE: %.2f, SSIM: %.2f\" % (m, s))\n",
    "\n",
    "    # show first image\n",
    "    ax = fig.add_subplot(1, 2, 1)\n",
    "    plt.imshow(imageA, cmap = plt.cm.gray)\n",
    "    plt.axis(\"off\")\n",
    "\n",
    "    # show the second image\n",
    "    ax = fig.add_subplot(1, 2, 2)\n",
    "    plt.imshow(imageB, cmap = plt.cm.gray)\n",
    "    plt.axis(\"off\")\n",
    "\n",
    "    # show the images\n",
    "    plt.show()\n",
    "    \n",
    "    \n",
    "# load the images -- the original, the original + contrast,\n",
    "# and the original + photoshop\n",
    "compare_images2(cv2.imread(\"/home/justin/Desktop/WashingtonFeatures/W_features_45/W_features/270/270-06.-26-W.png\",0),\n",
    "               cv2.imread(\"/home/justin/Desktop/WashingtonFeatures/W_features_45/W_features/270/270-06.-21-W.png\",0),\"test\")\n",
    "\n",
    "\n",
    "compare_images2(cv2.imread(\"/home/justin/Desktop/WashingtonFeatures/W_features_45/W_features/270/270-06.-26-W.png\",0),\n",
    "               cv2.imread(\"/home/justin/Desktop/Black.png\",0),\"test\")\n",
    "\n",
    "compare_images2(cv2.imread(\"/home/justin/Desktop/raw2.png\",0),\n",
    "               cv2.imread(\"/home/justin/Desktop/raw.png\",0),\"test\")\n",
    "\n",
    "compare_images2(cv2.imread(\"/home/justin/Desktop/Horizontal.png\",0),\n",
    "               cv2.imread(\"/home/justin/Desktop/Half_White.png\",0),\"test\")\n",
    "\n",
    "compare_images2(cv2.imread(\"/home/justin/Desktop/Full_Black.png\",0),\n",
    "               cv2.imread(\"/home/justin/Desktop/Horizontal.png\",0),\"test\")\n"
   ]
  },
  {
   "cell_type": "code",
   "execution_count": 35,
   "metadata": {
    "scrolled": true
   },
   "outputs": [
    {
     "name": "stderr",
     "output_type": "stream",
     "text": [
      "/home/justin/.local/lib/python3.6/site-packages/ipykernel/__main__.py:9: RuntimeWarning: overflow encountered in ubyte_scalars\n"
     ]
    },
    {
     "data": {
      "text/plain": [
       "<matplotlib.image.AxesImage at 0x7ff636e9b320>"
      ]
     },
     "execution_count": 35,
     "metadata": {},
     "output_type": "execute_result"
    },
    {
     "data": {
      "image/png": "[encoded data removed]",
      "text/plain": [
       "<Figure size 432x288 with 1 Axes>"
      ]
     },
     "metadata": {},
     "output_type": "display_data"
    }
   ],
   "source": [
    "from PIL import Image\n",
    "from matplotlib import pyplot as plt\n",
    "\n",
    "Image = cv2.imread(\"/home/justin/Desktop/WashingtonFeatures/W_features_45/W_features/270/270-06.-26-W.png\",0)\n",
    "NewImg=[]\n",
    "for x in range(0,len(Image)):\n",
    "    NewImg.append([])\n",
    "    for y in range(0,len(Image[x])-1):\n",
    "        NewImg[x].append(Image[x][y]-Image[x][y+1])\n",
    "\n",
    "#ret,thresh = cv.threshold(NewImg,127,255,cv.THRESH_BINARY+cv.THRESH_OTSU)\n",
    "plt.imshow(NewImg,cmap = plt.cm.gray)\n"
   ]
  },
  {
   "cell_type": "code",
   "execution_count": null,
   "metadata": {},
   "outputs": [],
   "source": []
  },
  {
   "cell_type": "code",
   "execution_count": null,
   "metadata": {},
   "outputs": [],
   "source": [
    "import cv2\n",
    "import numpy as np\n",
    " \n",
    "img1 = cv2.imread(\"/home/justin/Desktop/WashingtonFeatures/W_features_45/W_features/270/270-06.-26.png\", cv2.IMREAD_GRAYSCALE)\n",
    "img2 = cv2.imread(\"/home/justin/Desktop/WashingtonFeatures/W_features_45/W_features/270/270-06.-21.png\", cv2.IMREAD_GRAYSCALE)\n",
    " \n",
    "# ORB Detector\n",
    "orb = cv2.ORB_create()\n",
    "kp1, des1 = orb.detectAndCompute(img1, None)\n",
    "kp2, des2 = orb.detectAndCompute(img2, None)\n",
    " \n",
    "# Brute Force Matching\n",
    "bf = cv2.BFMatcher(cv2.NORM_HAMMING, crossCheck=True)\n",
    "matches = bf.match(des1, des2)\n",
    "matches = sorted(matches, key = lambda x:x.distance)\n",
    " \n",
    "matching_result = cv2.drawMatches(img1, kp1, img2, kp2, matches[:50], None, flags=2)\n",
    " \n",
    "cv2.imshow(\"Matching result\", matching_result)\n",
    "cv2.waitKey(0)\n",
    "cv2.destroyAllWindows()"
   ]
  },
  {
   "cell_type": "code",
   "execution_count": null,
   "metadata": {},
   "outputs": [],
   "source": [
    "from PIL import Image\n",
    "from PIL import ImageChops\n",
    "\n",
    "im1 = Image.open(\"/home/justin/Desktop/WashingtonFeatures/W_features_45/W_features/270/270-06.-26.png\")\n",
    "im2 = Image.open(\"/home/justin/Desktop/WashingtonFeatures/W_features_45/W_features/270/270-06.-21.png\")\n",
    "\n",
    "diff = ImageChops.difference(im2, im1)\n",
    "print(diff)\n",
    "diff.show()"
   ]
  },
  {
   "cell_type": "code",
   "execution_count": null,
   "metadata": {},
   "outputs": [],
   "source": [
    "from PIL import Image\n",
    "from PIL import ImageChops\n",
    "\n",
    "im1 = Image.open(\"/home/justin/Desktop/WashingtonFeatures/W_features_45/W_features/270/270-06.-26-W.png\")\n",
    "im2 = Image.open(\"/home/justin/Desktop/WashingtonFeatures/W_features_45/W_features/270/270-06.-21-W.png\")\n",
    "\n",
    "diff = ImageChops.difference(im2, im1)\n",
    "print(diff)\n",
    "diff.show()"
   ]
  },
  {
   "cell_type": "code",
   "execution_count": null,
   "metadata": {},
   "outputs": [],
   "source": []
  }
 ],
 "metadata": {
  "kernelspec": {
   "display_name": "Python [conda root]",
   "language": "python",
   "name": "conda-root-py"
  },
  "language_info": {
   "codemirror_mode": {
    "name": "ipython",
    "version": 3
   },
   "file_extension": ".py",
   "mimetype": "text/x-python",
   "name": "python",
   "nbconvert_exporter": "python",
   "pygments_lexer": "ipython3",
   "version": "3.6.5"
  }
 },
 "nbformat": 4,
 "nbformat_minor": 2
}
