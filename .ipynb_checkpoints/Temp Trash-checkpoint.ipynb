{
 "cells": [
  {
   "cell_type": "code",
   "execution_count": null,
   "metadata": {},
   "outputs": [],
   "source": [
    "\n",
    "with open('/home/justin/Desktop/Jupyter/Test Data/washingtondb-v1.0/washingtondb-v1.0/ground_truth/transcription.txt', 'r') as file:\n",
    "    file =file.read()\n",
    "\n",
    "import re\n",
    "out = ''.join(file.split(\"-\"))\n",
    "out = out.replace(\"|\",\" \")\n",
    "out = out.replace(\"s_bl\",\"(\")\n",
    "out = out.replace(\"s_br\",\")\")\n",
    "out = out.replace(\"s_cm\",\",\")\n",
    "out = out.replace(\"s_et\",\"V\")\n",
    "out = out.replace(\"s_lb\",\"L\")\n",
    "out = out.replace(\"s_mi\",\"-\")\n",
    "out = out.replace(\"s_pt\",\".\")\n",
    "out = out.replace(\"s_qo\",\":\")\n",
    "out = out.replace(\"s_qt\",\"'\")\n",
    "out = out.replace(\"s_s\",\"s\")\n",
    "out = out.replace(\"s_sl\",\"sl\")\n",
    "out = out.replace(\"s_sq\",\";\")\n",
    "out = out.replace(\"s_\",\"\")\n",
    "\n",
    "out=re.findall(r\"(?<=(\\d\\d\\d\\d\\d\\s))(.+)\",out)\n",
    "\n",
    "with open('/home/justin/Desktop/Jupyter/Test Data/washingtondb-v1.0/washingtondb-v1.0/ground_truth/transcriptionNew.txt', 'w') as file:\n",
    "    num=1\n",
    "    for x in out:\n",
    "        file.write(\"{} {} \\n\".format(num,x[1]))\n",
    "        num+=1"
   ]
  }
 ],
 "metadata": {
  "kernelspec": {
   "display_name": "Thesis",
   "language": "python",
   "name": "thesis"
  },
  "language_info": {
   "codemirror_mode": {
    "name": "ipython",
    "version": 3
   },
   "file_extension": ".py",
   "mimetype": "text/x-python",
   "name": "python",
   "nbconvert_exporter": "python",
   "pygments_lexer": "ipython3",
   "version": "3.6.5"
  }
 },
 "nbformat": 4,
 "nbformat_minor": 2
}
